{
 "cells": [
  {
   "attachments": {},
   "cell_type": "markdown",
   "metadata": {},
   "source": [
    "**Read\n",
    "- https://www.jittagornp.me/blog/what-is-firewall/"
   ]
  },
  {
   "attachments": {},
   "cell_type": "markdown",
   "metadata": {},
   "source": [
    "Columns Description\n",
    "- Source Port, Client Source Port \n",
    "- Destination Port, Client Destination Port \n",
    "- NAT Source Port, Network Address Translation Source Port \n",
    "- NAT Destination Port, Network Address Translation Destination Port \n",
    "- Elapsed Time (sec), Elapsed Time for flow \n",
    "- Bytes, Total Bytes \n",
    "- Bytes Sent, Bytes Sent \n",
    "- Bytes Received, Bytes Received \n",
    "- Packets, Total Packets \n",
    "- pkts_sent, Packets Sent \n",
    "- pkts_received, Packets Received\n",
    "- Action, Class (allow, deny, drop, reset-both)"
   ]
  },
  {
   "attachments": {},
   "cell_type": "markdown",
   "metadata": {},
   "source": [
    "- Allow, Allows the internet traffic. \n",
    "- Deny, Blocks traffic and enforces the default Deny Action defined for the application that is being denied. \n",
    "- Drop, Silently drops the traffic; for an application, it overrides the default deny action. A TCP reset is not sent to the host/application. \n",
    "- Reset-Both, Sends a TCP reset to both the client-side and server-side devices"
   ]
  },
  {
   "attachments": {},
   "cell_type": "markdown",
   "metadata": {},
   "source": [
    "NAT stands for network address translation. It’s a way to map multiple private addresses inside a local network to a public IP address before transferring the information onto the internet. Organizations that want multiple devices to employ a single IP address use NAT, as do most home routers"
   ]
  },
  {
   "attachments": {},
   "cell_type": "markdown",
   "metadata": {},
   "source": [
    "Idea\n",
    "- คิดว่า feature packet ทั้งหมด drop ทิ้งได้ เพราะ  corr กับ bytes\n",
    "- ทำรูป flow pipeline "
   ]
  },
  {
   "attachments": {},
   "cell_type": "markdown",
   "metadata": {},
   "source": [
    "To do\n",
    "- clean -> done\n",
    "- EDA -> done\n",
    "- encoding catagorical data -> done with pd getdummie\n",
    "- dicision tree adjust branch\n",
    "- random forest\n",
    "- knn\n",
    "- xgboost\n",
    "- cart\n",
    "- handle imbalance data -> done with smotenc\n",
    "    - upsampling with smote make perf getting worse because smote is for datasets containing only numerical feature -> try smotenc that is for dataset containing numerical and categorical features -> done"
   ]
  },
  {
   "cell_type": "code",
   "execution_count": 50,
   "metadata": {},
   "outputs": [],
   "source": [
    "import pandas as pd\n",
    "import matplotlib.pyplot as plt\n",
    "import seaborn as sns\n",
    "from sklearn.tree import DecisionTreeClassifier\n",
    "from sklearn.model_selection import train_test_split\n",
    "from sklearn import metrics\n",
    "from sklearn.preprocessing import StandardScaler\n",
    "from imblearn.over_sampling import SMOTENC\n",
    "\n",
    "# plt.style.use('ggplot')"
   ]
  },
  {
   "cell_type": "code",
   "execution_count": 51,
   "metadata": {},
   "outputs": [],
   "source": [
    "# Import data\n",
    "df = pd.read_csv('Firewall_Log.csv')"
   ]
  },
  {
   "cell_type": "code",
   "execution_count": 52,
   "metadata": {},
   "outputs": [
    {
     "data": {
      "text/html": [
       "<div>\n",
       "<style scoped>\n",
       "    .dataframe tbody tr th:only-of-type {\n",
       "        vertical-align: middle;\n",
       "    }\n",
       "\n",
       "    .dataframe tbody tr th {\n",
       "        vertical-align: top;\n",
       "    }\n",
       "\n",
       "    .dataframe thead th {\n",
       "        text-align: right;\n",
       "    }\n",
       "</style>\n",
       "<table border=\"1\" class=\"dataframe\">\n",
       "  <thead>\n",
       "    <tr style=\"text-align: right;\">\n",
       "      <th></th>\n",
       "      <th>Source Port</th>\n",
       "      <th>Destination Port</th>\n",
       "      <th>NAT Source Port</th>\n",
       "      <th>NAT Destination Port</th>\n",
       "      <th>Action</th>\n",
       "      <th>Bytes</th>\n",
       "      <th>Bytes Sent</th>\n",
       "      <th>Bytes Received</th>\n",
       "      <th>Packets</th>\n",
       "      <th>Elapsed Time (sec)</th>\n",
       "      <th>pkts_sent</th>\n",
       "      <th>pkts_received</th>\n",
       "    </tr>\n",
       "  </thead>\n",
       "  <tbody>\n",
       "    <tr>\n",
       "      <th>0</th>\n",
       "      <td>57222</td>\n",
       "      <td>53</td>\n",
       "      <td>54587</td>\n",
       "      <td>53</td>\n",
       "      <td>allow</td>\n",
       "      <td>177</td>\n",
       "      <td>94</td>\n",
       "      <td>83</td>\n",
       "      <td>2</td>\n",
       "      <td>30</td>\n",
       "      <td>1</td>\n",
       "      <td>1</td>\n",
       "    </tr>\n",
       "    <tr>\n",
       "      <th>1</th>\n",
       "      <td>56258</td>\n",
       "      <td>3389</td>\n",
       "      <td>56258</td>\n",
       "      <td>3389</td>\n",
       "      <td>allow</td>\n",
       "      <td>4768</td>\n",
       "      <td>1600</td>\n",
       "      <td>3168</td>\n",
       "      <td>19</td>\n",
       "      <td>17</td>\n",
       "      <td>10</td>\n",
       "      <td>9</td>\n",
       "    </tr>\n",
       "    <tr>\n",
       "      <th>2</th>\n",
       "      <td>6881</td>\n",
       "      <td>50321</td>\n",
       "      <td>43265</td>\n",
       "      <td>50321</td>\n",
       "      <td>allow</td>\n",
       "      <td>238</td>\n",
       "      <td>118</td>\n",
       "      <td>120</td>\n",
       "      <td>2</td>\n",
       "      <td>1199</td>\n",
       "      <td>1</td>\n",
       "      <td>1</td>\n",
       "    </tr>\n",
       "    <tr>\n",
       "      <th>3</th>\n",
       "      <td>50553</td>\n",
       "      <td>3389</td>\n",
       "      <td>50553</td>\n",
       "      <td>3389</td>\n",
       "      <td>allow</td>\n",
       "      <td>3327</td>\n",
       "      <td>1438</td>\n",
       "      <td>1889</td>\n",
       "      <td>15</td>\n",
       "      <td>17</td>\n",
       "      <td>8</td>\n",
       "      <td>7</td>\n",
       "    </tr>\n",
       "    <tr>\n",
       "      <th>4</th>\n",
       "      <td>50002</td>\n",
       "      <td>443</td>\n",
       "      <td>45848</td>\n",
       "      <td>443</td>\n",
       "      <td>allow</td>\n",
       "      <td>25358</td>\n",
       "      <td>6778</td>\n",
       "      <td>18580</td>\n",
       "      <td>31</td>\n",
       "      <td>16</td>\n",
       "      <td>13</td>\n",
       "      <td>18</td>\n",
       "    </tr>\n",
       "  </tbody>\n",
       "</table>\n",
       "</div>"
      ],
      "text/plain": [
       "   Source Port  Destination Port  NAT Source Port  NAT Destination Port   \n",
       "0        57222                53            54587                    53  \\\n",
       "1        56258              3389            56258                  3389   \n",
       "2         6881             50321            43265                 50321   \n",
       "3        50553              3389            50553                  3389   \n",
       "4        50002               443            45848                   443   \n",
       "\n",
       "  Action  Bytes  Bytes Sent  Bytes Received  Packets  Elapsed Time (sec)   \n",
       "0  allow    177          94              83        2                  30  \\\n",
       "1  allow   4768        1600            3168       19                  17   \n",
       "2  allow    238         118             120        2                1199   \n",
       "3  allow   3327        1438            1889       15                  17   \n",
       "4  allow  25358        6778           18580       31                  16   \n",
       "\n",
       "   pkts_sent  pkts_received  \n",
       "0          1              1  \n",
       "1         10              9  \n",
       "2          1              1  \n",
       "3          8              7  \n",
       "4         13             18  "
      ]
     },
     "execution_count": 52,
     "metadata": {},
     "output_type": "execute_result"
    }
   ],
   "source": [
    "df.head()"
   ]
  },
  {
   "cell_type": "code",
   "execution_count": 53,
   "metadata": {},
   "outputs": [
    {
     "name": "stdout",
     "output_type": "stream",
     "text": [
      "<class 'pandas.core.frame.DataFrame'>\n",
      "RangeIndex: 65532 entries, 0 to 65531\n",
      "Data columns (total 12 columns):\n",
      " #   Column                Non-Null Count  Dtype \n",
      "---  ------                --------------  ----- \n",
      " 0   Source Port           65532 non-null  int64 \n",
      " 1   Destination Port      65532 non-null  int64 \n",
      " 2   NAT Source Port       65532 non-null  int64 \n",
      " 3   NAT Destination Port  65532 non-null  int64 \n",
      " 4   Action                65532 non-null  object\n",
      " 5   Bytes                 65532 non-null  int64 \n",
      " 6   Bytes Sent            65532 non-null  int64 \n",
      " 7   Bytes Received        65532 non-null  int64 \n",
      " 8   Packets               65532 non-null  int64 \n",
      " 9   Elapsed Time (sec)    65532 non-null  int64 \n",
      " 10  pkts_sent             65532 non-null  int64 \n",
      " 11  pkts_received         65532 non-null  int64 \n",
      "dtypes: int64(11), object(1)\n",
      "memory usage: 6.0+ MB\n"
     ]
    }
   ],
   "source": [
    "df.info()"
   ]
  },
  {
   "cell_type": "code",
   "execution_count": 54,
   "metadata": {},
   "outputs": [
    {
     "data": {
      "text/plain": [
       "Source Port             0\n",
       "Destination Port        0\n",
       "NAT Source Port         0\n",
       "NAT Destination Port    0\n",
       "Action                  0\n",
       "Bytes                   0\n",
       "Bytes Sent              0\n",
       "Bytes Received          0\n",
       "Packets                 0\n",
       "Elapsed Time (sec)      0\n",
       "pkts_sent               0\n",
       "pkts_received           0\n",
       "dtype: int64"
      ]
     },
     "execution_count": 54,
     "metadata": {},
     "output_type": "execute_result"
    }
   ],
   "source": [
    "df.isnull().sum()"
   ]
  },
  {
   "cell_type": "code",
   "execution_count": 55,
   "metadata": {},
   "outputs": [
    {
     "data": {
      "text/html": [
       "<div>\n",
       "<style scoped>\n",
       "    .dataframe tbody tr th:only-of-type {\n",
       "        vertical-align: middle;\n",
       "    }\n",
       "\n",
       "    .dataframe tbody tr th {\n",
       "        vertical-align: top;\n",
       "    }\n",
       "\n",
       "    .dataframe thead th {\n",
       "        text-align: right;\n",
       "    }\n",
       "</style>\n",
       "<table border=\"1\" class=\"dataframe\">\n",
       "  <thead>\n",
       "    <tr style=\"text-align: right;\">\n",
       "      <th></th>\n",
       "      <th>Source Port</th>\n",
       "      <th>Destination Port</th>\n",
       "      <th>NAT Source Port</th>\n",
       "      <th>NAT Destination Port</th>\n",
       "      <th>Bytes</th>\n",
       "      <th>Bytes Sent</th>\n",
       "      <th>Bytes Received</th>\n",
       "      <th>Packets</th>\n",
       "      <th>Elapsed Time (sec)</th>\n",
       "      <th>pkts_sent</th>\n",
       "      <th>pkts_received</th>\n",
       "    </tr>\n",
       "  </thead>\n",
       "  <tbody>\n",
       "    <tr>\n",
       "      <th>count</th>\n",
       "      <td>65532.000000</td>\n",
       "      <td>65532.000000</td>\n",
       "      <td>65532.000000</td>\n",
       "      <td>65532.000000</td>\n",
       "      <td>6.553200e+04</td>\n",
       "      <td>6.553200e+04</td>\n",
       "      <td>6.553200e+04</td>\n",
       "      <td>6.553200e+04</td>\n",
       "      <td>65532.000000</td>\n",
       "      <td>65532.000000</td>\n",
       "      <td>65532.000000</td>\n",
       "    </tr>\n",
       "    <tr>\n",
       "      <th>mean</th>\n",
       "      <td>49391.969343</td>\n",
       "      <td>10577.385812</td>\n",
       "      <td>19282.972761</td>\n",
       "      <td>2671.049930</td>\n",
       "      <td>9.712395e+04</td>\n",
       "      <td>2.238580e+04</td>\n",
       "      <td>7.473815e+04</td>\n",
       "      <td>1.028660e+02</td>\n",
       "      <td>65.833577</td>\n",
       "      <td>41.399530</td>\n",
       "      <td>61.466505</td>\n",
       "    </tr>\n",
       "    <tr>\n",
       "      <th>std</th>\n",
       "      <td>15255.712537</td>\n",
       "      <td>18466.027039</td>\n",
       "      <td>21970.689669</td>\n",
       "      <td>9739.162278</td>\n",
       "      <td>5.618439e+06</td>\n",
       "      <td>3.828139e+06</td>\n",
       "      <td>2.463208e+06</td>\n",
       "      <td>5.133002e+03</td>\n",
       "      <td>302.461762</td>\n",
       "      <td>3218.871288</td>\n",
       "      <td>2223.332271</td>\n",
       "    </tr>\n",
       "    <tr>\n",
       "      <th>min</th>\n",
       "      <td>0.000000</td>\n",
       "      <td>0.000000</td>\n",
       "      <td>0.000000</td>\n",
       "      <td>0.000000</td>\n",
       "      <td>6.000000e+01</td>\n",
       "      <td>6.000000e+01</td>\n",
       "      <td>0.000000e+00</td>\n",
       "      <td>1.000000e+00</td>\n",
       "      <td>0.000000</td>\n",
       "      <td>1.000000</td>\n",
       "      <td>0.000000</td>\n",
       "    </tr>\n",
       "    <tr>\n",
       "      <th>25%</th>\n",
       "      <td>49183.000000</td>\n",
       "      <td>80.000000</td>\n",
       "      <td>0.000000</td>\n",
       "      <td>0.000000</td>\n",
       "      <td>6.600000e+01</td>\n",
       "      <td>6.600000e+01</td>\n",
       "      <td>0.000000e+00</td>\n",
       "      <td>1.000000e+00</td>\n",
       "      <td>0.000000</td>\n",
       "      <td>1.000000</td>\n",
       "      <td>0.000000</td>\n",
       "    </tr>\n",
       "    <tr>\n",
       "      <th>50%</th>\n",
       "      <td>53776.500000</td>\n",
       "      <td>445.000000</td>\n",
       "      <td>8820.500000</td>\n",
       "      <td>53.000000</td>\n",
       "      <td>1.680000e+02</td>\n",
       "      <td>9.000000e+01</td>\n",
       "      <td>7.900000e+01</td>\n",
       "      <td>2.000000e+00</td>\n",
       "      <td>15.000000</td>\n",
       "      <td>1.000000</td>\n",
       "      <td>1.000000</td>\n",
       "    </tr>\n",
       "    <tr>\n",
       "      <th>75%</th>\n",
       "      <td>58638.000000</td>\n",
       "      <td>15000.000000</td>\n",
       "      <td>38366.250000</td>\n",
       "      <td>443.000000</td>\n",
       "      <td>7.522500e+02</td>\n",
       "      <td>2.100000e+02</td>\n",
       "      <td>4.490000e+02</td>\n",
       "      <td>6.000000e+00</td>\n",
       "      <td>30.000000</td>\n",
       "      <td>3.000000</td>\n",
       "      <td>2.000000</td>\n",
       "    </tr>\n",
       "    <tr>\n",
       "      <th>max</th>\n",
       "      <td>65534.000000</td>\n",
       "      <td>65535.000000</td>\n",
       "      <td>65535.000000</td>\n",
       "      <td>65535.000000</td>\n",
       "      <td>1.269359e+09</td>\n",
       "      <td>9.484772e+08</td>\n",
       "      <td>3.208818e+08</td>\n",
       "      <td>1.036116e+06</td>\n",
       "      <td>10824.000000</td>\n",
       "      <td>747520.000000</td>\n",
       "      <td>327208.000000</td>\n",
       "    </tr>\n",
       "  </tbody>\n",
       "</table>\n",
       "</div>"
      ],
      "text/plain": [
       "        Source Port  Destination Port  NAT Source Port  NAT Destination Port   \n",
       "count  65532.000000      65532.000000     65532.000000          65532.000000  \\\n",
       "mean   49391.969343      10577.385812     19282.972761           2671.049930   \n",
       "std    15255.712537      18466.027039     21970.689669           9739.162278   \n",
       "min        0.000000          0.000000         0.000000              0.000000   \n",
       "25%    49183.000000         80.000000         0.000000              0.000000   \n",
       "50%    53776.500000        445.000000      8820.500000             53.000000   \n",
       "75%    58638.000000      15000.000000     38366.250000            443.000000   \n",
       "max    65534.000000      65535.000000     65535.000000          65535.000000   \n",
       "\n",
       "              Bytes    Bytes Sent  Bytes Received       Packets   \n",
       "count  6.553200e+04  6.553200e+04    6.553200e+04  6.553200e+04  \\\n",
       "mean   9.712395e+04  2.238580e+04    7.473815e+04  1.028660e+02   \n",
       "std    5.618439e+06  3.828139e+06    2.463208e+06  5.133002e+03   \n",
       "min    6.000000e+01  6.000000e+01    0.000000e+00  1.000000e+00   \n",
       "25%    6.600000e+01  6.600000e+01    0.000000e+00  1.000000e+00   \n",
       "50%    1.680000e+02  9.000000e+01    7.900000e+01  2.000000e+00   \n",
       "75%    7.522500e+02  2.100000e+02    4.490000e+02  6.000000e+00   \n",
       "max    1.269359e+09  9.484772e+08    3.208818e+08  1.036116e+06   \n",
       "\n",
       "       Elapsed Time (sec)      pkts_sent  pkts_received  \n",
       "count        65532.000000   65532.000000   65532.000000  \n",
       "mean            65.833577      41.399530      61.466505  \n",
       "std            302.461762    3218.871288    2223.332271  \n",
       "min              0.000000       1.000000       0.000000  \n",
       "25%              0.000000       1.000000       0.000000  \n",
       "50%             15.000000       1.000000       1.000000  \n",
       "75%             30.000000       3.000000       2.000000  \n",
       "max          10824.000000  747520.000000  327208.000000  "
      ]
     },
     "execution_count": 55,
     "metadata": {},
     "output_type": "execute_result"
    }
   ],
   "source": [
    "df.describe()"
   ]
  },
  {
   "cell_type": "code",
   "execution_count": 56,
   "metadata": {},
   "outputs": [
    {
     "data": {
      "image/png": "[encoded data removed]",
      "text/plain": [
       "<Figure size 640x480 with 1 Axes>"
      ]
     },
     "metadata": {},
     "output_type": "display_data"
    }
   ],
   "source": [
    "sns.countplot(data=df, x=\"Action\")\n",
    "plt.show()"
   ]
  },
  {
   "cell_type": "code",
   "execution_count": 57,
   "metadata": {},
   "outputs": [
    {
     "name": "stdout",
     "output_type": "stream",
     "text": [
      "percentage of allow action is 57.44 %\n",
      "percentage of drop action is 19.61 %\n",
      "percentage of deny action is 22.87 %\n",
      "percentage of reset action is 0.08 %\n"
     ]
    }
   ],
   "source": [
    "count_action_allow = len(df[df[\"Action\"]==\"allow\"])\n",
    "count_action_drop = len(df[df[\"Action\"]==\"drop\"])\n",
    "count_action_deny = len(df[df[\"Action\"]==\"deny\"])\n",
    "count_action_reset = len(df[df[\"Action\"]==\"reset-both\"])\n",
    "\n",
    "count_action = count_action_allow + count_action_drop + count_action_deny + count_action_reset\n",
    "\n",
    "percentage_of_action_allow = count_action_allow/count_action\n",
    "percentage_of_action_drop = count_action_drop/count_action\n",
    "percentage_of_action_deny = count_action_deny/count_action\n",
    "percentage_of_action_reset = count_action_reset/count_action\n",
    "\n",
    "print(f\"percentage of allow action is {round(percentage_of_action_allow*100, 2)} %\")\n",
    "print(f\"percentage of drop action is {round(percentage_of_action_drop*100, 2)} %\")\n",
    "print(f\"percentage of deny action is {round(percentage_of_action_deny*100, 2)} %\")\n",
    "print(f\"percentage of reset action is {round(percentage_of_action_reset*100, 2)} %\")"
   ]
  },
  {
   "cell_type": "code",
   "execution_count": 58,
   "metadata": {},
   "outputs": [],
   "source": [
    "# # count the occurrences of each unique value\n",
    "# action_counts = df['Action'].value_counts()\n",
    "\n",
    "# # plot the count of unique values\n",
    "# ax = action_counts.plot(kind='bar')\n",
    "# ax.set_title('Count of Action Values')\n",
    "\n",
    "# for i in ax.patches:\n",
    "#     ax.text(i.get_x()+0.1, i.get_height(), str(int(i.get_height())), fontsize=11, color='black')\n",
    "# plt.show()\n",
    "\n",
    "# # pie chart\n",
    "# action_counts.plot.pie(autopct='%.2f')\n",
    "# plt.show()"
   ]
  },
  {
   "attachments": {},
   "cell_type": "markdown",
   "metadata": {},
   "source": [
    "มี imbalance data ใน action == reset-both"
   ]
  },
  {
   "cell_type": "code",
   "execution_count": 59,
   "metadata": {},
   "outputs": [],
   "source": [
    "# from sklearn.utils import resample\n",
    "\n",
    "\n",
    "# allow = df[df.Action=='allow']\n",
    "# deny = df[df.Action=='deny']\n",
    "# drop = df[df.Action=='drop']\n",
    "# reset_both = df[df.Action=='reset-both']\n",
    "\n",
    "# # oversample the minority classes\n",
    "# deny_oversampled = resample(deny, replace=True, n_samples=len(allow), random_state=42)\n",
    "# drop_oversampled = resample(drop, replace=True, n_samples=len(allow), random_state=42)\n",
    "# reset_both_oversampled = resample(reset_both, replace=True, n_samples=len(allow), random_state=42)\n",
    "\n",
    "# # combine the resampled classes with the majority class\n",
    "# oversampled_df = pd.concat([allow, deny_oversampled, drop_oversampled, reset_both_oversampled])\n",
    "\n",
    "# # check the class distribution\n",
    "# oversampled_df['Action'].value_counts()"
   ]
  },
  {
   "cell_type": "code",
   "execution_count": 60,
   "metadata": {},
   "outputs": [],
   "source": [
    "# Convert port column to str type\n",
    "col = ['Source Port', 'Destination Port', 'NAT Source Port', 'NAT Destination Port']\n",
    "for i in col:\n",
    "    df[i] = df[i].astype(str)"
   ]
  },
  {
   "cell_type": "code",
   "execution_count": 61,
   "metadata": {},
   "outputs": [
    {
     "data": {
      "image/png": "[encoded data removed]",
      "text/plain": [
       "<Figure size 800x600 with 9 Axes>"
      ]
     },
     "metadata": {},
     "output_type": "display_data"
    }
   ],
   "source": [
    "# create histogram of numerical feature\n",
    "df.hist(figsize = (8, 6))\n",
    "plt.tight_layout()\n",
    "plt.show()"
   ]
  },
  {
   "cell_type": "code",
   "execution_count": 62,
   "metadata": {},
   "outputs": [
    {
     "data": {
      "image/png": "[encoded data removed]",
      "text/plain": [
       "<Figure size 1500x300 with 7 Axes>"
      ]
     },
     "metadata": {},
     "output_type": "display_data"
    }
   ],
   "source": [
    "# ดูความต่างของ feature data แต่ละ action เห็นว่ามี pattern allow จะ byte, pkt, time เยอะกว่า action อื่น ส่วน action อื่นเท่ากันหมด\n",
    "fig, axs = plt.subplots(ncols=7, figsize=(15, 3))\n",
    "\n",
    "for i, col in enumerate(['Bytes', 'Bytes Sent', 'Bytes Received', 'Packets', 'pkts_sent', 'pkts_received', 'Elapsed Time (sec)']):\n",
    "    action_median = df.groupby(['Action'])[col].median()\n",
    "    action_median.plot(kind='bar', ax=axs[i])\n",
    "    axs[i].set_title(col)\n",
    "\n",
    "plt.tight_layout()\n",
    "plt.show()"
   ]
  },
  {
   "cell_type": "code",
   "execution_count": 63,
   "metadata": {},
   "outputs": [],
   "source": [
    "# # create histogram\n",
    "# columns = ['Bytes', 'Bytes Sent', 'Bytes Received', 'Packets', 'Elapsed Time (sec)', 'pkts_sent', 'pkts_received']\n",
    "\n",
    "# fig, axs = plt.subplots(nrows=3, ncols=3, figsize=(8, 6))\n",
    "# axs = axs.flatten()\n",
    "\n",
    "# # Create a histogram for each selected column on a separate subplot\n",
    "# for i, col in enumerate(columns):\n",
    "#     axs[i].hist(df[col], bins=20)\n",
    "#     axs[i].set_title(col)\n",
    "\n",
    "# plt.tight_layout()\n",
    "# plt.show()"
   ]
  },
  {
   "cell_type": "code",
   "execution_count": 64,
   "metadata": {},
   "outputs": [
    {
     "data": {
      "image/png": "[encoded data removed]",
      "text/plain": [
       "<Figure size 640x480 with 2 Axes>"
      ]
     },
     "metadata": {},
     "output_type": "display_data"
    }
   ],
   "source": [
    "# Create a heatmap of the correlation coefficients\n",
    "columns = ['Bytes', 'Bytes Sent', 'Bytes Received', 'Packets', 'Elapsed Time (sec)', 'pkts_sent', 'pkts_received']\n",
    "corr_matrix = df[columns].corr()\n",
    "\n",
    "sns.heatmap(corr_matrix, annot=True, cmap='coolwarm')\n",
    "plt.show()\n",
    "\n",
    "# packets และ bytes corr=~1 ตัด pkt ทิ้งได้"
   ]
  },
  {
   "cell_type": "code",
   "execution_count": 65,
   "metadata": {},
   "outputs": [],
   "source": [
    "# sns.pairplot(data=df, hue = \"Action\")\n",
    "# plt.show()"
   ]
  },
  {
   "cell_type": "code",
   "execution_count": 66,
   "metadata": {},
   "outputs": [
    {
     "data": {
      "text/html": [
       "<div>\n",
       "<style scoped>\n",
       "    .dataframe tbody tr th:only-of-type {\n",
       "        vertical-align: middle;\n",
       "    }\n",
       "\n",
       "    .dataframe tbody tr th {\n",
       "        vertical-align: top;\n",
       "    }\n",
       "\n",
       "    .dataframe thead th {\n",
       "        text-align: right;\n",
       "    }\n",
       "</style>\n",
       "<table border=\"1\" class=\"dataframe\">\n",
       "  <thead>\n",
       "    <tr style=\"text-align: right;\">\n",
       "      <th></th>\n",
       "      <th>Source Port</th>\n",
       "      <th>Destination Port</th>\n",
       "      <th>NAT Source Port</th>\n",
       "      <th>NAT Destination Port</th>\n",
       "      <th>Action</th>\n",
       "      <th>Bytes</th>\n",
       "      <th>Bytes Sent</th>\n",
       "      <th>Bytes Received</th>\n",
       "      <th>Packets</th>\n",
       "      <th>Elapsed Time (sec)</th>\n",
       "      <th>pkts_sent</th>\n",
       "      <th>pkts_received</th>\n",
       "    </tr>\n",
       "  </thead>\n",
       "  <tbody>\n",
       "    <tr>\n",
       "      <th>0</th>\n",
       "      <td>57222</td>\n",
       "      <td>53</td>\n",
       "      <td>54587</td>\n",
       "      <td>53</td>\n",
       "      <td>allow</td>\n",
       "      <td>-0.017255</td>\n",
       "      <td>-0.005823</td>\n",
       "      <td>-0.030308</td>\n",
       "      <td>-0.019651</td>\n",
       "      <td>-0.118474</td>\n",
       "      <td>-0.012551</td>\n",
       "      <td>-0.027197</td>\n",
       "    </tr>\n",
       "    <tr>\n",
       "      <th>1</th>\n",
       "      <td>56258</td>\n",
       "      <td>3389</td>\n",
       "      <td>56258</td>\n",
       "      <td>3389</td>\n",
       "      <td>allow</td>\n",
       "      <td>-0.016438</td>\n",
       "      <td>-0.005430</td>\n",
       "      <td>-0.029056</td>\n",
       "      <td>-0.016339</td>\n",
       "      <td>-0.161455</td>\n",
       "      <td>-0.009755</td>\n",
       "      <td>-0.023598</td>\n",
       "    </tr>\n",
       "    <tr>\n",
       "      <th>2</th>\n",
       "      <td>6881</td>\n",
       "      <td>50321</td>\n",
       "      <td>43265</td>\n",
       "      <td>50321</td>\n",
       "      <td>allow</td>\n",
       "      <td>-0.017244</td>\n",
       "      <td>-0.005817</td>\n",
       "      <td>-0.030293</td>\n",
       "      <td>-0.019651</td>\n",
       "      <td>3.746507</td>\n",
       "      <td>-0.012551</td>\n",
       "      <td>-0.027197</td>\n",
       "    </tr>\n",
       "  </tbody>\n",
       "</table>\n",
       "</div>"
      ],
      "text/plain": [
       "  Source Port Destination Port NAT Source Port NAT Destination Port Action   \n",
       "0       57222               53           54587                   53  allow  \\\n",
       "1       56258             3389           56258                 3389  allow   \n",
       "2        6881            50321           43265                50321  allow   \n",
       "\n",
       "      Bytes  Bytes Sent  Bytes Received   Packets  Elapsed Time (sec)   \n",
       "0 -0.017255   -0.005823       -0.030308 -0.019651           -0.118474  \\\n",
       "1 -0.016438   -0.005430       -0.029056 -0.016339           -0.161455   \n",
       "2 -0.017244   -0.005817       -0.030293 -0.019651            3.746507   \n",
       "\n",
       "   pkts_sent  pkts_received  \n",
       "0  -0.012551      -0.027197  \n",
       "1  -0.009755      -0.023598  \n",
       "2  -0.012551      -0.027197  "
      ]
     },
     "execution_count": 66,
     "metadata": {},
     "output_type": "execute_result"
    }
   ],
   "source": [
    "# Since the data in columns is not form in normal distribution so we will apply Standardization\n",
    "scaler = StandardScaler()\n",
    "df[columns] = scaler.fit_transform(df[columns])\n",
    "\n",
    "df.head(3)"
   ]
  },
  {
   "cell_type": "code",
   "execution_count": 67,
   "metadata": {},
   "outputs": [
    {
     "data": {
      "text/html": [
       "<div>\n",
       "<style scoped>\n",
       "    .dataframe tbody tr th:only-of-type {\n",
       "        vertical-align: middle;\n",
       "    }\n",
       "\n",
       "    .dataframe tbody tr th {\n",
       "        vertical-align: top;\n",
       "    }\n",
       "\n",
       "    .dataframe thead th {\n",
       "        text-align: right;\n",
       "    }\n",
       "</style>\n",
       "<table border=\"1\" class=\"dataframe\">\n",
       "  <thead>\n",
       "    <tr style=\"text-align: right;\">\n",
       "      <th></th>\n",
       "      <th>Action</th>\n",
       "      <th>Bytes</th>\n",
       "      <th>Bytes Sent</th>\n",
       "      <th>Bytes Received</th>\n",
       "      <th>Packets</th>\n",
       "      <th>Elapsed Time (sec)</th>\n",
       "      <th>pkts_sent</th>\n",
       "      <th>pkts_received</th>\n",
       "      <th>Source Port_0</th>\n",
       "      <th>Source Port_10000</th>\n",
       "      <th>...</th>\n",
       "      <th>NAT Destination Port_9587</th>\n",
       "      <th>NAT Destination Port_9595</th>\n",
       "      <th>NAT Destination Port_9600</th>\n",
       "      <th>NAT Destination Port_9703</th>\n",
       "      <th>NAT Destination Port_9869</th>\n",
       "      <th>NAT Destination Port_9912</th>\n",
       "      <th>NAT Destination Port_993</th>\n",
       "      <th>NAT Destination Port_995</th>\n",
       "      <th>NAT Destination Port_9992</th>\n",
       "      <th>NAT Destination Port_9999</th>\n",
       "    </tr>\n",
       "  </thead>\n",
       "  <tbody>\n",
       "    <tr>\n",
       "      <th>0</th>\n",
       "      <td>allow</td>\n",
       "      <td>-0.017255</td>\n",
       "      <td>-0.005823</td>\n",
       "      <td>-0.030308</td>\n",
       "      <td>-0.019651</td>\n",
       "      <td>-0.118474</td>\n",
       "      <td>-0.012551</td>\n",
       "      <td>-0.027197</td>\n",
       "      <td>False</td>\n",
       "      <td>False</td>\n",
       "      <td>...</td>\n",
       "      <td>False</td>\n",
       "      <td>False</td>\n",
       "      <td>False</td>\n",
       "      <td>False</td>\n",
       "      <td>False</td>\n",
       "      <td>False</td>\n",
       "      <td>False</td>\n",
       "      <td>False</td>\n",
       "      <td>False</td>\n",
       "      <td>False</td>\n",
       "    </tr>\n",
       "    <tr>\n",
       "      <th>1</th>\n",
       "      <td>allow</td>\n",
       "      <td>-0.016438</td>\n",
       "      <td>-0.005430</td>\n",
       "      <td>-0.029056</td>\n",
       "      <td>-0.016339</td>\n",
       "      <td>-0.161455</td>\n",
       "      <td>-0.009755</td>\n",
       "      <td>-0.023598</td>\n",
       "      <td>False</td>\n",
       "      <td>False</td>\n",
       "      <td>...</td>\n",
       "      <td>False</td>\n",
       "      <td>False</td>\n",
       "      <td>False</td>\n",
       "      <td>False</td>\n",
       "      <td>False</td>\n",
       "      <td>False</td>\n",
       "      <td>False</td>\n",
       "      <td>False</td>\n",
       "      <td>False</td>\n",
       "      <td>False</td>\n",
       "    </tr>\n",
       "    <tr>\n",
       "      <th>2</th>\n",
       "      <td>allow</td>\n",
       "      <td>-0.017244</td>\n",
       "      <td>-0.005817</td>\n",
       "      <td>-0.030293</td>\n",
       "      <td>-0.019651</td>\n",
       "      <td>3.746507</td>\n",
       "      <td>-0.012551</td>\n",
       "      <td>-0.027197</td>\n",
       "      <td>False</td>\n",
       "      <td>False</td>\n",
       "      <td>...</td>\n",
       "      <td>False</td>\n",
       "      <td>False</td>\n",
       "      <td>False</td>\n",
       "      <td>False</td>\n",
       "      <td>False</td>\n",
       "      <td>False</td>\n",
       "      <td>False</td>\n",
       "      <td>False</td>\n",
       "      <td>False</td>\n",
       "      <td>False</td>\n",
       "    </tr>\n",
       "  </tbody>\n",
       "</table>\n",
       "<p>3 rows × 57690 columns</p>\n",
       "</div>"
      ],
      "text/plain": [
       "  Action     Bytes  Bytes Sent  Bytes Received   Packets  Elapsed Time (sec)   \n",
       "0  allow -0.017255   -0.005823       -0.030308 -0.019651           -0.118474  \\\n",
       "1  allow -0.016438   -0.005430       -0.029056 -0.016339           -0.161455   \n",
       "2  allow -0.017244   -0.005817       -0.030293 -0.019651            3.746507   \n",
       "\n",
       "   pkts_sent  pkts_received  Source Port_0  Source Port_10000  ...   \n",
       "0  -0.012551      -0.027197          False              False  ...  \\\n",
       "1  -0.009755      -0.023598          False              False  ...   \n",
       "2  -0.012551      -0.027197          False              False  ...   \n",
       "\n",
       "   NAT Destination Port_9587  NAT Destination Port_9595   \n",
       "0                      False                      False  \\\n",
       "1                      False                      False   \n",
       "2                      False                      False   \n",
       "\n",
       "   NAT Destination Port_9600  NAT Destination Port_9703   \n",
       "0                      False                      False  \\\n",
       "1                      False                      False   \n",
       "2                      False                      False   \n",
       "\n",
       "   NAT Destination Port_9869  NAT Destination Port_9912   \n",
       "0                      False                      False  \\\n",
       "1                      False                      False   \n",
       "2                      False                      False   \n",
       "\n",
       "   NAT Destination Port_993  NAT Destination Port_995   \n",
       "0                     False                     False  \\\n",
       "1                     False                     False   \n",
       "2                     False                     False   \n",
       "\n",
       "   NAT Destination Port_9992  NAT Destination Port_9999  \n",
       "0                      False                      False  \n",
       "1                      False                      False  \n",
       "2                      False                      False  \n",
       "\n",
       "[3 rows x 57690 columns]"
      ]
     },
     "execution_count": 67,
     "metadata": {},
     "output_type": "execute_result"
    }
   ],
   "source": [
    "# onehot encoding\n",
    "df = pd.get_dummies(df, columns=['Source Port', 'Destination Port', 'NAT Source Port', 'NAT Destination Port'])\n",
    "\n",
    "df.head(3)"
   ]
  },
  {
   "cell_type": "code",
   "execution_count": 68,
   "metadata": {},
   "outputs": [],
   "source": [
    "X = df.drop(['Action', 'Packets', 'pkts_sent', 'pkts_received'], axis=1)\n",
    "y = df['Action']"
   ]
  },
  {
   "cell_type": "code",
   "execution_count": 69,
   "metadata": {},
   "outputs": [],
   "source": [
    "# from sklearn import preprocessing\n",
    "# le = preprocessing.LabelEncoder()\n",
    "# label_encoded_df = X.copy()\n",
    "# for col in label_encoded_df.select_dtypes(include='O').columns:\n",
    "#     label_encoded_df[col]=le.fit_transform(label_encoded_df[col])"
   ]
  },
  {
   "cell_type": "code",
   "execution_count": 70,
   "metadata": {},
   "outputs": [],
   "source": [
    "# from sklearn import preprocessing\n",
    "# le = preprocessing.LabelEncoder()\n",
    "# for col in X.select_dtypes(include='O').columns:\n",
    "#     X[col]=le.fit_transform(df[col])"
   ]
  },
  {
   "cell_type": "code",
   "execution_count": 71,
   "metadata": {},
   "outputs": [],
   "source": [
    "# X = df.drop(['Action', 'Bytes Sent', 'Bytes Received', 'pkts_sent', 'pkts_received'], axis=1)\n",
    "# y = df['Action']"
   ]
  },
  {
   "cell_type": "code",
   "execution_count": 72,
   "metadata": {},
   "outputs": [],
   "source": [
    "# X = df.drop(['Action', 'Elapsed Time (sec)'], axis=1)\n",
    "# y = df['Action']"
   ]
  },
  {
   "cell_type": "code",
   "execution_count": 73,
   "metadata": {},
   "outputs": [],
   "source": [
    "# from sklearn.preprocessing import OneHotEncoder\n",
    "\n",
    "# # create a list of column names to encode\n",
    "# cols_to_encode = ['Source Port', 'Destination Port', 'NAT Source Port', 'NAT Destination Port']\n",
    "\n",
    "# # create a OneHotEncoder object\n",
    "# ohe = OneHotEncoder(sparse_output=False)\n",
    "# ohe.fit_transform(df[['Source Port']])"
   ]
  },
  {
   "cell_type": "code",
   "execution_count": 74,
   "metadata": {},
   "outputs": [],
   "source": [
    "X_train, X_test, y_train, y_test=train_test_split(X,y,train_size=0.8, test_size=0.2, random_state=50)"
   ]
  },
  {
   "attachments": {},
   "cell_type": "markdown",
   "metadata": {},
   "source": [
    "# decision tree"
   ]
  },
  {
   "cell_type": "code",
   "execution_count": 75,
   "metadata": {},
   "outputs": [],
   "source": [
    "treeclassifier = DecisionTreeClassifier()\n",
    "treeclassifier.fit(X_train, y_train)\n",
    "pred = treeclassifier.predict(X_test)"
   ]
  },
  {
   "cell_type": "code",
   "execution_count": 76,
   "metadata": {},
   "outputs": [],
   "source": [
    "# # handle imbalance data with smotenc\n",
    "# sm = SMOTENC(random_state=42, categorical_features=[0, 1, 2, 3]) # define categorical features ['Source Port', 'Destination Port', 'NAT Source Port', 'NAT Destination Port']\n",
    "# X_sm, y_sm = sm.fit_resample(X_train, y_train)\n",
    "# y_sm.value_counts()"
   ]
  },
  {
   "cell_type": "code",
   "execution_count": 77,
   "metadata": {},
   "outputs": [],
   "source": [
    "# treeclassifier.fit(X_sm, y_sm)\n",
    "# smpred = treeclassifier.predict(X_test)"
   ]
  },
  {
   "cell_type": "code",
   "execution_count": 78,
   "metadata": {},
   "outputs": [
    {
     "name": "stdout",
     "output_type": "stream",
     "text": [
      "[[7532    1    0    0]\n",
      " [   0 2938   13    0]\n",
      " [   0    3 2607    0]\n",
      " [   0    2    0   11]]\n",
      "              precision    recall  f1-score   support\n",
      "\n",
      "       allow       1.00      1.00      1.00      7533\n",
      "        deny       1.00      1.00      1.00      2951\n",
      "        drop       1.00      1.00      1.00      2610\n",
      "  reset-both       1.00      0.85      0.92        13\n",
      "\n",
      "    accuracy                           1.00     13107\n",
      "   macro avg       1.00      0.96      0.98     13107\n",
      "weighted avg       1.00      1.00      1.00     13107\n",
      "\n"
     ]
    }
   ],
   "source": [
    "from sklearn.metrics import confusion_matrix,classification_report\n",
    "print(confusion_matrix(y_test,pred))\n",
    "print(classification_report(y_test,pred))"
   ]
  },
  {
   "cell_type": "code",
   "execution_count": null,
   "metadata": {},
   "outputs": [],
   "source": [
    "# from sklearn.metrics import confusion_matrix,classification_report\n",
    "# print(confusion_matrix(y_test,smpred))\n",
    "# print(classification_report(y_test,smpred))"
   ]
  },
  {
   "attachments": {},
   "cell_type": "markdown",
   "metadata": {},
   "source": [
    "# KNN"
   ]
  },
  {
   "attachments": {},
   "cell_type": "markdown",
   "metadata": {},
   "source": [
    "https://www.kaggle.com/code/shrutimechlearn/step-by-step-diabetes-classification-knn-detailed"
   ]
  },
  {
   "cell_type": "code",
   "execution_count": null,
   "metadata": {},
   "outputs": [],
   "source": [
    "import math\n",
    "max_k = round(math.sqrt(len(X_train)))\n",
    "print(f\"maximun k = {max_k}\")"
   ]
  },
  {
   "cell_type": "code",
   "execution_count": null,
   "metadata": {},
   "outputs": [],
   "source": [
    "from sklearn.neighbors import KNeighborsClassifier\n",
    "\n",
    "\n",
    "test_scores = []\n",
    "train_scores = []\n",
    "\n",
    "for i in range(1, 5):\n",
    "\n",
    "    knn = KNeighborsClassifier(i)\n",
    "    knn.fit(X_train,y_train)\n",
    "    \n",
    "    train_scores.append(knn.score(X_train,y_train))\n",
    "    test_scores.append(knn.score(X_test,y_test))"
   ]
  },
  {
   "cell_type": "code",
   "execution_count": null,
   "metadata": {},
   "outputs": [],
   "source": [
    "## score that comes from testing on the same datapoints that were used for training\n",
    "max_train_score = max(train_scores)\n",
    "train_scores_ind = [i for i, v in enumerate(train_scores) if v == max_train_score]\n",
    "print('Max train score {} % and k = {}'.format(max_train_score*100,list(map(lambda x: x+1, train_scores_ind))))"
   ]
  },
  {
   "cell_type": "code",
   "execution_count": null,
   "metadata": {},
   "outputs": [],
   "source": [
    "## score that comes from testing on the datapoints that were split in the beginning to be used for testing solely\n",
    "max_test_score = max(test_scores)\n",
    "test_scores_ind = [i for i, v in enumerate(test_scores) if v == max_test_score]\n",
    "print('Max test score {} % and k = {}'.format(max_test_score*100,list(map(lambda x: x+1, test_scores_ind))))"
   ]
  },
  {
   "cell_type": "code",
   "execution_count": null,
   "metadata": {},
   "outputs": [],
   "source": [
    "plt.figure(figsize=(12,5))\n",
    "p = sns.lineplot(range(1,15),train_scores,marker='*',label='Train Score')\n",
    "p = sns.lineplot(range(1,15),test_scores,marker='o',label='Test Score')"
   ]
  },
  {
   "attachments": {},
   "cell_type": "markdown",
   "metadata": {},
   "source": [
    "# xgboost"
   ]
  },
  {
   "attachments": {},
   "cell_type": "markdown",
   "metadata": {},
   "source": [
    "https://www.kaggle.com/code/lucidlenn/data-analysis-and-classification-using-xgboost"
   ]
  },
  {
   "cell_type": "code",
   "execution_count": 79,
   "metadata": {},
   "outputs": [
    {
     "ename": "ValueError",
     "evalue": "Invalid classes inferred from unique values of `y`.  Expected: [0 1 2 3], got ['allow' 'deny' 'drop' 'reset-both']",
     "output_type": "error",
     "traceback": [
      "\u001b[1;31m---------------------------------------------------------------------------\u001b[0m",
      "\u001b[1;31mValueError\u001b[0m                                Traceback (most recent call last)",
      "Cell \u001b[1;32mIn[79], line 3\u001b[0m\n\u001b[0;32m      1\u001b[0m \u001b[39mfrom\u001b[39;00m \u001b[39mxgboost\u001b[39;00m \u001b[39mimport\u001b[39;00m XGBClassifier\n\u001b[0;32m      2\u001b[0m xgb \u001b[39m=\u001b[39m XGBClassifier(n_estimators\u001b[39m=\u001b[39m\u001b[39m100\u001b[39m)\n\u001b[1;32m----> 3\u001b[0m xgb\u001b[39m.\u001b[39;49mfit(X_train, y_train)\n\u001b[0;32m      4\u001b[0m pred \u001b[39m=\u001b[39m xgb\u001b[39m.\u001b[39mpredict(X_test)\n\u001b[0;32m      6\u001b[0m \u001b[39mprint\u001b[39m(confusion_matrix(y_test,pred))\n",
      "File \u001b[1;32md:\\Git\\ML_ClassificationOfFirewall\\venv\\lib\\site-packages\\xgboost\\core.py:620\u001b[0m, in \u001b[0;36mrequire_keyword_args.<locals>.throw_if.<locals>.inner_f\u001b[1;34m(*args, **kwargs)\u001b[0m\n\u001b[0;32m    618\u001b[0m \u001b[39mfor\u001b[39;00m k, arg \u001b[39min\u001b[39;00m \u001b[39mzip\u001b[39m(sig\u001b[39m.\u001b[39mparameters, args):\n\u001b[0;32m    619\u001b[0m     kwargs[k] \u001b[39m=\u001b[39m arg\n\u001b[1;32m--> 620\u001b[0m \u001b[39mreturn\u001b[39;00m func(\u001b[39m*\u001b[39m\u001b[39m*\u001b[39mkwargs)\n",
      "File \u001b[1;32md:\\Git\\ML_ClassificationOfFirewall\\venv\\lib\\site-packages\\xgboost\\sklearn.py:1440\u001b[0m, in \u001b[0;36mXGBClassifier.fit\u001b[1;34m(self, X, y, sample_weight, base_margin, eval_set, eval_metric, early_stopping_rounds, verbose, xgb_model, sample_weight_eval_set, base_margin_eval_set, feature_weights, callbacks)\u001b[0m\n\u001b[0;32m   1435\u001b[0m     expected_classes \u001b[39m=\u001b[39m np\u001b[39m.\u001b[39marange(\u001b[39mself\u001b[39m\u001b[39m.\u001b[39mn_classes_)\n\u001b[0;32m   1436\u001b[0m \u001b[39mif\u001b[39;00m (\n\u001b[0;32m   1437\u001b[0m     \u001b[39mself\u001b[39m\u001b[39m.\u001b[39mclasses_\u001b[39m.\u001b[39mshape \u001b[39m!=\u001b[39m expected_classes\u001b[39m.\u001b[39mshape\n\u001b[0;32m   1438\u001b[0m     \u001b[39mor\u001b[39;00m \u001b[39mnot\u001b[39;00m (\u001b[39mself\u001b[39m\u001b[39m.\u001b[39mclasses_ \u001b[39m==\u001b[39m expected_classes)\u001b[39m.\u001b[39mall()\n\u001b[0;32m   1439\u001b[0m ):\n\u001b[1;32m-> 1440\u001b[0m     \u001b[39mraise\u001b[39;00m \u001b[39mValueError\u001b[39;00m(\n\u001b[0;32m   1441\u001b[0m         \u001b[39mf\u001b[39m\u001b[39m\"\u001b[39m\u001b[39mInvalid classes inferred from unique values of `y`.  \u001b[39m\u001b[39m\"\u001b[39m\n\u001b[0;32m   1442\u001b[0m         \u001b[39mf\u001b[39m\u001b[39m\"\u001b[39m\u001b[39mExpected: \u001b[39m\u001b[39m{\u001b[39;00mexpected_classes\u001b[39m}\u001b[39;00m\u001b[39m, got \u001b[39m\u001b[39m{\u001b[39;00m\u001b[39mself\u001b[39m\u001b[39m.\u001b[39mclasses_\u001b[39m}\u001b[39;00m\u001b[39m\"\u001b[39m\n\u001b[0;32m   1443\u001b[0m     )\n\u001b[0;32m   1445\u001b[0m params \u001b[39m=\u001b[39m \u001b[39mself\u001b[39m\u001b[39m.\u001b[39mget_xgb_params()\n\u001b[0;32m   1447\u001b[0m \u001b[39mif\u001b[39;00m \u001b[39mcallable\u001b[39m(\u001b[39mself\u001b[39m\u001b[39m.\u001b[39mobjective):\n",
      "\u001b[1;31mValueError\u001b[0m: Invalid classes inferred from unique values of `y`.  Expected: [0 1 2 3], got ['allow' 'deny' 'drop' 'reset-both']"
     ]
    }
   ],
   "source": [
    "from xgboost import XGBClassifier\n",
    "xgb = XGBClassifier(n_estimators=100)\n",
    "xgb.fit(X_train, y_train)\n",
    "pred = xgb.predict(X_test)\n",
    "\n",
    "print(confusion_matrix(y_test,pred))\n",
    "print(classification_report(y_test,pred))"
   ]
  },
  {
   "cell_type": "code",
   "execution_count": null,
   "metadata": {},
   "outputs": [],
   "source": [
    "from sklearn.model_selection import cross_val_score\n",
    "rfc_cv = RandomForestClassifier(n_estimators=100)\n",
    "scores = cross_val_score(rfc_cv, X_train, y_train, cv=10, scoring = \"accuracy\")\n",
    "print(\"Scores:\", scores)\n",
    "print(\"Mean:\", scores.mean())\n",
    "print(\"Standard Deviation:\", scores.std())"
   ]
  },
  {
   "cell_type": "code",
   "execution_count": null,
   "metadata": {},
   "outputs": [],
   "source": [
    "xgb_cv = XGBClassifier(n_estimators=100)\n",
    "scores = cross_val_score(xgb_cv, X_train, y_train, cv=10, scoring = \"accuracy\")\n",
    "print(\"Scores:\", scores)\n",
    "print(\"Mean:\", scores.mean())\n",
    "print(\"Standard Deviation:\", scores.std())"
   ]
  },
  {
   "cell_type": "code",
   "execution_count": null,
   "metadata": {},
   "outputs": [],
   "source": [
    "svc = SVC()\n",
    "training_start = time.perf_counter()\n",
    "svc.fit(X_train, y_train)\n",
    "training_end = time.perf_counter()\n",
    "prediction_start = time.perf_counter()\n",
    "preds = svc.predict(X_test)\n",
    "prediction_end = time.perf_counter()\n",
    "acc_svc = (preds == y_test).sum().astype(float) / len(preds)*100\n",
    "svc_train_time = training_end-training_start\n",
    "svc_prediction_time = prediction_end-prediction_start\n",
    "print(\"Scikit-Learn's Support Vector Machine Classifier's prediction accuracy is: %3.2f\" % (acc_svc))\n",
    "print(\"Time consumed for training: %4.3f seconds\" % (svc_train_time))\n",
    "print(\"Time consumed for prediction: %6.5f seconds\" % (svc_prediction_time))"
   ]
  }
 ],
 "metadata": {
  "kernelspec": {
   "display_name": "Python 3",
   "language": "python",
   "name": "python3"
  },
  "language_info": {
   "codemirror_mode": {
    "name": "ipython",
    "version": 3
   },
   "file_extension": ".py",
   "mimetype": "text/x-python",
   "name": "python",
   "nbconvert_exporter": "python",
   "pygments_lexer": "ipython3",
   "version": "3.9.13"
  },
  "orig_nbformat": 4
 },
 "nbformat": 4,
 "nbformat_minor": 2
}
