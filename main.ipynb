{
 "cells": [
  {
   "attachments": {},
   "cell_type": "markdown",
   "metadata": {},
   "source": [
    "**Read\n",
    "- https://www.jittagornp.me/blog/what-is-firewall/"
   ]
  },
  {
   "attachments": {},
   "cell_type": "markdown",
   "metadata": {},
   "source": [
    "Columns Description\n",
    "- Source Port, Client Source Port \n",
    "- Destination Port, Client Destination Port \n",
    "- NAT Source Port, Network Address Translation Source Port \n",
    "- NAT Destination Port, Network Address Translation Destination Port \n",
    "- Elapsed Time (sec), Elapsed Time for flow \n",
    "- Bytes, Total Bytes \n",
    "- Bytes Sent, Bytes Sent \n",
    "- Bytes Received, Bytes Received \n",
    "- Packets, Total Packets \n",
    "- pkts_sent, Packets Sent \n",
    "- pkts_received, Packets Received\n",
    "- Action, Class (allow, deny, drop, reset-both)"
   ]
  },
  {
   "attachments": {},
   "cell_type": "markdown",
   "metadata": {},
   "source": [
    "- Allow, Allows the internet traffic. \n",
    "- Deny, Blocks traffic and enforces the default Deny Action defined for the application that is being denied. \n",
    "- Drop, Silently drops the traffic; for an application, it overrides the default deny action. A TCP reset is not sent to the host/application. \n",
    "- Reset-Both, Sends a TCP reset to both the client-side and server-side devices"
   ]
  },
  {
   "attachments": {},
   "cell_type": "markdown",
   "metadata": {},
   "source": [
    "NAT stands for network address translation. It’s a way to map multiple private addresses inside a local network to a public IP address before transferring the information onto the internet. Organizations that want multiple devices to employ a single IP address use NAT, as do most home routers"
   ]
  },
  {
   "attachments": {},
   "cell_type": "markdown",
   "metadata": {},
   "source": [
    "Idea\n",
    "- คิดว่า feature packet ทั้งหมด drop ทิ้งได้ เพราะ  corr กับ bytes\n",
    "- ทำรูป flow pipeline "
   ]
  },
  {
   "attachments": {},
   "cell_type": "markdown",
   "metadata": {},
   "source": [
    "To do\n",
    "- encoding catagorical data\n",
    "- dicision tree adjust branch\n",
    "- random forest\n",
    "- knn\n",
    "- xgboost\n",
    "- cart\n",
    "- handle imbalance data\n",
    "    - upsampling with smote make perf getting worse"
   ]
  },
  {
   "cell_type": "code",
   "execution_count": null,
   "metadata": {},
   "outputs": [],
   "source": [
    "import pandas as pd\n",
    "import matplotlib.pyplot as plt\n",
    "import seaborn as sns\n",
    "from sklearn.tree import DecisionTreeClassifier\n",
    "from sklearn.model_selection import train_test_split\n",
    "from sklearn import metrics\n",
    "from sklearn.preprocessing import StandardScaler\n",
    "from imblearn.over_sampling import SMOTE"
   ]
  },
  {
   "cell_type": "code",
   "execution_count": null,
   "metadata": {},
   "outputs": [],
   "source": [
    "# Import data\n",
    "df = pd.read_csv('Firewall_Log.csv')"
   ]
  },
  {
   "cell_type": "code",
   "execution_count": null,
   "metadata": {},
   "outputs": [],
   "source": [
    "df.head()"
   ]
  },
  {
   "cell_type": "code",
   "execution_count": null,
   "metadata": {},
   "outputs": [],
   "source": [
    "df.info()"
   ]
  },
  {
   "cell_type": "code",
   "execution_count": null,
   "metadata": {},
   "outputs": [],
   "source": [
    "df.isnull().sum()"
   ]
  },
  {
   "cell_type": "code",
   "execution_count": null,
   "metadata": {},
   "outputs": [],
   "source": [
    "df.describe()"
   ]
  },
  {
   "cell_type": "code",
   "execution_count": null,
   "metadata": {},
   "outputs": [],
   "source": [
    "# count the occurrences of each unique value\n",
    "action_counts = df['Action'].value_counts()\n",
    "\n",
    "# plot the count of unique values\n",
    "ax = action_counts.plot(kind='bar')\n",
    "ax.set_title('Count of Action Values')\n",
    "\n",
    "for i in ax.patches:\n",
    "    ax.text(i.get_x()+0.1, i.get_height(), str(int(i.get_height())), fontsize=11, color='black')\n",
    "plt.show()\n",
    "\n",
    "# pie chart\n",
    "action_counts.plot.pie(autopct='%.2f')\n",
    "plt.show()"
   ]
  },
  {
   "attachments": {},
   "cell_type": "markdown",
   "metadata": {},
   "source": [
    "มี imbalance data ใน action == reset-both"
   ]
  },
  {
   "cell_type": "code",
   "execution_count": null,
   "metadata": {},
   "outputs": [],
   "source": [
    "# from sklearn.utils import resample\n",
    "\n",
    "\n",
    "# allow = df[df.Action=='allow']\n",
    "# deny = df[df.Action=='deny']\n",
    "# drop = df[df.Action=='drop']\n",
    "# reset_both = df[df.Action=='reset-both']\n",
    "\n",
    "# # oversample the minority classes\n",
    "# deny_oversampled = resample(deny, replace=True, n_samples=len(allow), random_state=42)\n",
    "# drop_oversampled = resample(drop, replace=True, n_samples=len(allow), random_state=42)\n",
    "# reset_both_oversampled = resample(reset_both, replace=True, n_samples=len(allow), random_state=42)\n",
    "\n",
    "# # combine the resampled classes with the majority class\n",
    "# oversampled_df = pd.concat([allow, deny_oversampled, drop_oversampled, reset_both_oversampled])\n",
    "\n",
    "# # check the class distribution\n",
    "# oversampled_df['Action'].value_counts()"
   ]
  },
  {
   "cell_type": "code",
   "execution_count": null,
   "metadata": {},
   "outputs": [],
   "source": [
    "# Convert port column to str type\n",
    "col = ['Source Port', 'Destination Port', 'NAT Source Port', 'NAT Destination Port']\n",
    "for i in col:\n",
    "    df[i] = df[i].astype(str)"
   ]
  },
  {
   "cell_type": "code",
   "execution_count": null,
   "metadata": {},
   "outputs": [],
   "source": [
    "fig, axs = plt.subplots(ncols=7, figsize=(15, 3))\n",
    "\n",
    "for i, col in enumerate(['Bytes', 'Bytes Sent', 'Bytes Received', 'Packets', 'pkts_sent', 'pkts_received', 'Elapsed Time (sec)']):\n",
    "    action_median = df.groupby(['Action'])[col].median()\n",
    "    action_median.plot(kind='bar', ax=axs[i])\n",
    "    axs[i].set_title(col)\n",
    "\n",
    "plt.tight_layout()\n",
    "plt.show()"
   ]
  },
  {
   "cell_type": "code",
   "execution_count": null,
   "metadata": {},
   "outputs": [],
   "source": [
    "# create histogram\n",
    "columns = ['Bytes', 'Bytes Sent', 'Bytes Received', 'Packets', 'Elapsed Time (sec)', 'pkts_sent', 'pkts_received']\n",
    "\n",
    "fig, axs = plt.subplots(nrows=3, ncols=3, figsize=(8, 6))\n",
    "axs = axs.flatten()\n",
    "\n",
    "# Create a histogram for each selected column on a separate subplot\n",
    "for i, col in enumerate(columns):\n",
    "    axs[i].hist(df[col], bins=20)\n",
    "    axs[i].set_title(col)\n",
    "\n",
    "plt.tight_layout()\n",
    "plt.show()"
   ]
  },
  {
   "cell_type": "code",
   "execution_count": null,
   "metadata": {},
   "outputs": [],
   "source": [
    "# Since the data in columns is not form in normal distribution so we will apply Standardization\n",
    "scaler = StandardScaler()\n",
    "df[columns] = scaler.fit_transform(df[columns])\n",
    "\n",
    "df.head()"
   ]
  },
  {
   "cell_type": "code",
   "execution_count": null,
   "metadata": {},
   "outputs": [],
   "source": [
    "df.loc[df['Action']=='reset-both'].head()"
   ]
  },
  {
   "cell_type": "code",
   "execution_count": null,
   "metadata": {},
   "outputs": [],
   "source": [
    "# df['S-D_Port'] = df['Source Port'] + '_' + df['Destination Port']\n",
    "# df.head()"
   ]
  },
  {
   "cell_type": "code",
   "execution_count": null,
   "metadata": {},
   "outputs": [],
   "source": [
    "# Create a heatmap of the correlation coefficients\n",
    "corr_matrix = df[['Bytes', 'Bytes Sent', 'Bytes Received', 'Packets', 'Elapsed Time (sec)', 'pkts_sent', 'pkts_received']].corr()\n",
    "\n",
    "sns.heatmap(corr_matrix, annot=True, cmap='coolwarm')\n",
    "plt.show()\n",
    "\n",
    "# packets และ bytes corr=~1"
   ]
  },
  {
   "cell_type": "code",
   "execution_count": null,
   "metadata": {},
   "outputs": [],
   "source": [
    "df = pd.get_dummies(df, columns=['Source Port', 'Destination Port', 'NAT Source Port', 'NAT Destination Port'])\n",
    "df"
   ]
  },
  {
   "cell_type": "code",
   "execution_count": null,
   "metadata": {},
   "outputs": [],
   "source": [
    "X = df.drop(['Action', 'Packets', 'pkts_sent', 'pkts_received'], axis=1)\n",
    "y = df['Action']"
   ]
  },
  {
   "cell_type": "code",
   "execution_count": null,
   "metadata": {},
   "outputs": [],
   "source": [
    "# from sklearn import preprocessing\n",
    "# le = preprocessing.LabelEncoder()\n",
    "# label_encoded_df = X.copy()\n",
    "# for col in label_encoded_df.select_dtypes(include='O').columns:\n",
    "#     label_encoded_df[col]=le.fit_transform(label_encoded_df[col])"
   ]
  },
  {
   "cell_type": "code",
   "execution_count": null,
   "metadata": {},
   "outputs": [],
   "source": [
    "# from sklearn import preprocessing\n",
    "# le = preprocessing.LabelEncoder()\n",
    "# for col in X.select_dtypes(include='O').columns:\n",
    "#     X[col]=le.fit_transform(df[col])"
   ]
  },
  {
   "cell_type": "code",
   "execution_count": null,
   "metadata": {},
   "outputs": [],
   "source": [
    "# X = df.drop(['Action', 'Bytes Sent', 'Bytes Received', 'pkts_sent', 'pkts_received'], axis=1)\n",
    "# y = df['Action']"
   ]
  },
  {
   "cell_type": "code",
   "execution_count": null,
   "metadata": {},
   "outputs": [],
   "source": [
    "# X = df.drop(['Action', 'Elapsed Time (sec)'], axis=1)\n",
    "# y = df['Action']"
   ]
  },
  {
   "cell_type": "code",
   "execution_count": null,
   "metadata": {},
   "outputs": [],
   "source": [
    "# from sklearn.preprocessing import OneHotEncoder\n",
    "\n",
    "# # create a list of column names to encode\n",
    "# cols_to_encode = ['Source Port', 'Destination Port', 'NAT Source Port', 'NAT Destination Port']\n",
    "\n",
    "# # create a OneHotEncoder object\n",
    "# ohe = OneHotEncoder(sparse_output=False)\n",
    "# ohe.fit_transform(df[['Source Port']])"
   ]
  },
  {
   "cell_type": "code",
   "execution_count": null,
   "metadata": {},
   "outputs": [],
   "source": [
    "X_train, X_test, y_train, y_test=train_test_split(X,y,train_size=0.8, test_size=0.2, random_state=50)"
   ]
  },
  {
   "cell_type": "code",
   "execution_count": null,
   "metadata": {},
   "outputs": [],
   "source": [
    "treeclassifier = DecisionTreeClassifier()\n",
    "treeclassifier.fit(X_train, y_train)\n",
    "pred = treeclassifier.predict(X_test)"
   ]
  },
  {
   "cell_type": "code",
   "execution_count": null,
   "metadata": {},
   "outputs": [],
   "source": [
    "# handle imbalance data (reset-both) with SMOTE\n",
    "# ลองแล้วใน disition tree perf แย่กว่าเดิม\n",
    "# แย่น่าจะเพราะ smote ใช้ knn upsampling และเลขค่า port ที่ generate จะเปลี่ยนจากเดิมทำให้ perf แย่ลง เพราะ ค่า port สำคัญในการหา y\n",
    "\n",
    "# print('Original dataset shape %s' % Counter(y_train))\n",
    "\n",
    "sm = SMOTE(random_state=1)\n",
    "X_sm, y_sm = sm.fit_resample(X_train, y_train)\n",
    "# print('Resampled dataset shape %s' % Counter(y_sm))\n",
    "\n",
    "y_sm.value_counts()"
   ]
  },
  {
   "cell_type": "code",
   "execution_count": null,
   "metadata": {},
   "outputs": [],
   "source": [
    "# # ลอง round ค่า port จาก smote ดูแย่เหมือนเดิม\n",
    "# cols = ['Source Port', 'Destination Port', 'NAT Source Port', 'NAT Destination Port']\n",
    "# for col in cols:\n",
    "#     X_sm[col] = X_sm[col].apply(round)\n",
    "# X_sm.head()"
   ]
  },
  {
   "cell_type": "code",
   "execution_count": null,
   "metadata": {},
   "outputs": [],
   "source": [
    "# treeclassifier.fit(X_sm, y_sm)\n",
    "# pred = treeclassifier.predict(X_test)"
   ]
  },
  {
   "cell_type": "code",
   "execution_count": null,
   "metadata": {},
   "outputs": [],
   "source": [
    "from sklearn.metrics import confusion_matrix,classification_report\n",
    "print(confusion_matrix(y_test,pred))\n",
    "print(classification_report(y_test,pred))"
   ]
  },
  {
   "attachments": {},
   "cell_type": "markdown",
   "metadata": {},
   "source": [
    "# KNN"
   ]
  },
  {
   "cell_type": "code",
   "execution_count": null,
   "metadata": {},
   "outputs": [],
   "source": [
    "import math\n",
    "max_k = round(math.sqrt(len(X_train)))\n",
    "print(f\"maximun k = {max_k}\")"
   ]
  },
  {
   "cell_type": "code",
   "execution_count": null,
   "metadata": {},
   "outputs": [],
   "source": [
    "# from sklearn.neighbors import KNeighborsClassifier\n",
    "\n",
    "\n",
    "# test_scores = []\n",
    "# train_scores = []\n",
    "\n",
    "# for i in range(1, max_k+1):\n",
    "\n",
    "#     knn = KNeighborsClassifier(i)\n",
    "#     knn.fit(X_train,y_train)\n",
    "    \n",
    "#     train_scores.append(knn.score(X_train,y_train))\n",
    "#     test_scores.append(knn.score(X_test,y_test))"
   ]
  },
  {
   "cell_type": "code",
   "execution_count": null,
   "metadata": {},
   "outputs": [],
   "source": [
    "from sklearn import preprocessing\n",
    "le = preprocessing.LabelEncoder()\n",
    "le.fit([\"paris\", \"paris\", \"tokyo\", \"amsterdam\"])"
   ]
  }
 ],
 "metadata": {
  "kernelspec": {
   "display_name": "Python 3",
   "language": "python",
   "name": "python3"
  },
  "language_info": {
   "codemirror_mode": {
    "name": "ipython",
    "version": 3
   },
   "file_extension": ".py",
   "mimetype": "text/x-python",
   "name": "python",
   "nbconvert_exporter": "python",
   "pygments_lexer": "ipython3",
   "version": "3.9.13"
  },
  "orig_nbformat": 4
 },
 "nbformat": 4,
 "nbformat_minor": 2
}
